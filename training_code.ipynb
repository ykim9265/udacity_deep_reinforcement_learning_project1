{
 "cells": [
  {
   "cell_type": "markdown",
   "metadata": {},
   "source": [
    "# Training code for Project 1 (i.e. Banana environment) in Udacity's Deep Reinforcement Learning nanodegree course\n",
    "\n",
    "---\n",
    "\n",
    "In this notebook, we will use the Unity ML-Agents environment for the first project of the [Deep Reinforcement Learning Nanodegree](https://www.udacity.com/course/deep-reinforcement-learning-nanodegree--nd893).\n",
    "\n"
   ]
  },
  {
   "cell_type": "markdown",
   "metadata": {},
   "source": [
    "## 1. Start the Environment\n",
    "\n",
    "We begin by importing some necessary packages.  If the code cell below returns an error, please revisit the project instructions to double-check that you have installed [Unity ML-Agents](https://github.com/Unity-Technologies/ml-agents/blob/master/docs/Installation.md) and [NumPy](http://www.numpy.org/)."
   ]
  },
  {
   "cell_type": "code",
   "execution_count": 1,
   "metadata": {},
   "outputs": [
    {
     "name": "stderr",
     "output_type": "stream",
     "text": [
      "/home/life/.pyenv/versions/3.6.11/envs/upy36/lib/python3.6/site-packages/torch/cuda/__init__.py:52: UserWarning: CUDA initialization: CUDA unknown error - this may be due to an incorrectly set up environment, e.g. changing env variable CUDA_VISIBLE_DEVICES after program start. Setting the available devices to be zero. (Triggered internally at  /pytorch/c10/cuda/CUDAFunctions.cpp:100.)\n",
      "  return torch._C._cuda_getDeviceCount() > 0\n"
     ]
    }
   ],
   "source": [
    "import os\n",
    "import sys\n",
    "import random\n",
    "\n",
    "import numpy as np\n",
    "import torch\n",
    "from collections import deque\n",
    "import matplotlib.pyplot as plt\n",
    "\n",
    "from unityagents import UnityEnvironment  # Used python3.6 so that 'pip install unityagents' works; python3.7 did not work.\n",
    "\n",
    "\n",
    "from udacity.dqn_agent import Agent"
   ]
  },
  {
   "cell_type": "code",
   "execution_count": 2,
   "metadata": {},
   "outputs": [
    {
     "name": "stdout",
     "output_type": "stream",
     "text": [
      "python version: /home/life/.pyenv/versions/3.6.11/envs/upy36/bin\n",
      "torch version: 1.7.0\n"
     ]
    }
   ],
   "source": [
    "\n",
    "print('python version:', os.path.dirname(sys.executable))\n",
    "\n",
    "print('torch version:', torch.__version__)"
   ]
  },
  {
   "cell_type": "code",
   "execution_count": 3,
   "metadata": {},
   "outputs": [
    {
     "data": {
      "text/plain": [
       "device(type='cpu')"
      ]
     },
     "execution_count": 3,
     "metadata": {},
     "output_type": "execute_result"
    }
   ],
   "source": [
    "device = torch.device(\"cuda:0\" if torch.cuda.is_available() else \"cpu\")\n",
    "device"
   ]
  },
  {
   "cell_type": "markdown",
   "metadata": {},
   "source": [
    "Next, we will start the environment!  **_Before running the code cell below_**, change the `file_name` parameter to match the location of the Unity environment that you downloaded.\n",
    "\n",
    "- **Mac**: `\"path/to/Banana.app\"`\n",
    "- **Windows** (x86): `\"path/to/Banana_Windows_x86/Banana.exe\"`\n",
    "- **Windows** (x86_64): `\"path/to/Banana_Windows_x86_64/Banana.exe\"`\n",
    "- **Linux** (x86): `\"path/to/Banana_Linux/Banana.x86\"`\n",
    "- **Linux** (x86_64): `\"path/to/Banana_Linux/Banana.x86_64\"`\n",
    "- **Linux** (x86, headless): `\"path/to/Banana_Linux_NoVis/Banana.x86\"`\n",
    "- **Linux** (x86_64, headless): `\"path/to/Banana_Linux_NoVis/Banana.x86_64\"`\n",
    "\n",
    "For instance, if you are using a Mac, then you downloaded `Banana.app`.  If this file is in the same folder as the notebook, then the line below should appear as follows:\n",
    "```\n",
    "env = UnityEnvironment(file_name=\"Banana.app\")\n",
    "```"
   ]
  },
  {
   "cell_type": "code",
   "execution_count": 4,
   "metadata": {},
   "outputs": [
    {
     "name": "stderr",
     "output_type": "stream",
     "text": [
      "INFO:unityagents:\n",
      "'Academy' started successfully!\n",
      "Unity Academy name: Academy\n",
      "        Number of Brains: 1\n",
      "        Number of External Brains : 1\n",
      "        Lesson number : 0\n",
      "        Reset Parameters :\n",
      "\t\t\n",
      "Unity brain name: BananaBrain\n",
      "        Number of Visual Observations (per agent): 0\n",
      "        Vector Observation space type: continuous\n",
      "        Vector Observation space size (per agent): 37\n",
      "        Number of stacked Vector Observation: 1\n",
      "        Vector Action space type: discrete\n",
      "        Vector Action space size (per agent): 4\n",
      "        Vector Action descriptions: , , , \n"
     ]
    }
   ],
   "source": [
    "# Update the following path to match your path to the Unity environment file:\n",
    "file_name='/home/life/workspace_udacity/udacity_project1/Banana_Linux/Banana.x86_64'\n",
    "\n",
    "env = UnityEnvironment(file_name=file_name)"
   ]
  },
  {
   "cell_type": "markdown",
   "metadata": {},
   "source": [
    "Environments contain **_brains_** which are responsible for deciding the actions of their associated agents. Here we check for the first brain available, and set it as the default brain we will be controlling from Python."
   ]
  },
  {
   "cell_type": "code",
   "execution_count": 5,
   "metadata": {},
   "outputs": [],
   "source": [
    "# get the default brain\n",
    "brain_name = env.brain_names[0]\n",
    "brain = env.brains[brain_name]"
   ]
  },
  {
   "cell_type": "markdown",
   "metadata": {},
   "source": [
    "## 2. Examine the State and Action Spaces\n",
    "\n",
    "The simulation contains a single agent that navigates a large environment.  At each time step, it has four actions at its disposal:\n",
    "- `0` - walk forward \n",
    "- `1` - walk backward\n",
    "- `2` - turn left\n",
    "- `3` - turn right\n",
    "\n",
    "The state space has `37` dimensions and contains the agent's velocity, along with ray-based perception of objects around agent's forward direction.  A reward of `+1` is provided for collecting a yellow banana, and a reward of `-1` is provided for collecting a blue banana. \n",
    "\n",
    "Run the code cell below to print some information about the environment."
   ]
  },
  {
   "cell_type": "code",
   "execution_count": 6,
   "metadata": {},
   "outputs": [
    {
     "name": "stdout",
     "output_type": "stream",
     "text": [
      "Number of agents: 1\n",
      "Number of actions: 4\n",
      "States look like: [1.         0.         0.         0.         0.84408134 0.\n",
      " 0.         1.         0.         0.0748472  0.         1.\n",
      " 0.         0.         0.25755    1.         0.         0.\n",
      " 0.         0.74177343 0.         1.         0.         0.\n",
      " 0.25854847 0.         0.         1.         0.         0.09355672\n",
      " 0.         1.         0.         0.         0.31969345 0.\n",
      " 0.        ]\n",
      "States have length: 37\n"
     ]
    }
   ],
   "source": [
    "# reset the environment\n",
    "env_info = env.reset(train_mode=True)[brain_name]\n",
    "\n",
    "# number of agents in the environment\n",
    "print('Number of agents:', len(env_info.agents))\n",
    "\n",
    "# number of actions\n",
    "action_size = brain.vector_action_space_size\n",
    "print('Number of actions:', action_size)\n",
    "\n",
    "# examine the state space \n",
    "state = env_info.vector_observations[0]\n",
    "print('States look like:', state)\n",
    "state_size = len(state)\n",
    "print('States have length:', state_size)"
   ]
  },
  {
   "cell_type": "markdown",
   "metadata": {},
   "source": [
    "## 3. Test run an agent in the environment\n",
    "\n",
    "Here, we will use a DQN agent and run it in the Banana environment without training it. This will ensure that the agent can communicate with the environment."
   ]
  },
  {
   "cell_type": "code",
   "execution_count": 7,
   "metadata": {},
   "outputs": [
    {
     "name": "stdout",
     "output_type": "stream",
     "text": [
      "(step, action,reward): 1 \t 1 \t 0.0\n",
      "(step, action,reward): 2 \t 0 \t 0.0\n",
      "(step, action,reward): 3 \t 1 \t 0.0\n",
      "(step, action,reward): 4 \t 1 \t 0.0\n",
      "(step, action,reward): 5 \t 0 \t 0.0\n",
      "(step, action,reward): 6 \t 1 \t 0.0\n",
      "(step, action,reward): 7 \t 1 \t 0.0\n",
      "(step, action,reward): 8 \t 0 \t 0.0\n",
      "(step, action,reward): 9 \t 1 \t 0.0\n",
      "(step, action,reward): 10 \t 1 \t 0.0\n",
      "(step, action,reward): 11 \t 0 \t 0.0\n",
      "(step, action,reward): 12 \t 1 \t 0.0\n",
      "(step, action,reward): 13 \t 1 \t 0.0\n",
      "(step, action,reward): 14 \t 0 \t 0.0\n",
      "(step, action,reward): 15 \t 1 \t 0.0\n",
      "(step, action,reward): 16 \t 0 \t 0.0\n",
      "(step, action,reward): 17 \t 1 \t 0.0\n",
      "(step, action,reward): 18 \t 0 \t 0.0\n",
      "(step, action,reward): 19 \t 1 \t 0.0\n",
      "(step, action,reward): 20 \t 0 \t 0.0\n",
      "(step, action,reward): 21 \t 1 \t 0.0\n",
      "(step, action,reward): 22 \t 0 \t 0.0\n",
      "(step, action,reward): 23 \t 1 \t 0.0\n",
      "(step, action,reward): 24 \t 0 \t 0.0\n",
      "(step, action,reward): 25 \t 1 \t 0.0\n",
      "(step, action,reward): 26 \t 0 \t 0.0\n",
      "(step, action,reward): 27 \t 1 \t 0.0\n",
      "(step, action,reward): 28 \t 0 \t 0.0\n",
      "(step, action,reward): 29 \t 1 \t 0.0\n",
      "(step, action,reward): 30 \t 0 \t 0.0\n",
      "(step, action,reward): 31 \t 1 \t 0.0\n",
      "(step, action,reward): 32 \t 0 \t 0.0\n",
      "(step, action,reward): 33 \t 1 \t 0.0\n",
      "(step, action,reward): 34 \t 0 \t 0.0\n",
      "(step, action,reward): 35 \t 1 \t 0.0\n",
      "(step, action,reward): 36 \t 0 \t 0.0\n",
      "(step, action,reward): 37 \t 1 \t 0.0\n",
      "(step, action,reward): 38 \t 0 \t 0.0\n",
      "(step, action,reward): 39 \t 1 \t 0.0\n",
      "(step, action,reward): 40 \t 0 \t 0.0\n",
      "(step, action,reward): 41 \t 1 \t 0.0\n",
      "(step, action,reward): 42 \t 0 \t 0.0\n",
      "(step, action,reward): 43 \t 1 \t 0.0\n",
      "(step, action,reward): 44 \t 0 \t 0.0\n",
      "(step, action,reward): 45 \t 1 \t 0.0\n",
      "(step, action,reward): 46 \t 0 \t 0.0\n",
      "(step, action,reward): 47 \t 1 \t 0.0\n",
      "(step, action,reward): 48 \t 0 \t 0.0\n",
      "(step, action,reward): 49 \t 1 \t 0.0\n",
      "(step, action,reward): 50 \t 0 \t 0.0\n",
      "(step, action,reward): 51 \t 1 \t 0.0\n",
      "(step, action,reward): 52 \t 0 \t 0.0\n",
      "(step, action,reward): 53 \t 1 \t 0.0\n",
      "(step, action,reward): 54 \t 0 \t 0.0\n",
      "(step, action,reward): 55 \t 1 \t 0.0\n",
      "(step, action,reward): 56 \t 0 \t 0.0\n",
      "(step, action,reward): 57 \t 1 \t 0.0\n",
      "(step, action,reward): 58 \t 0 \t 0.0\n",
      "(step, action,reward): 59 \t 1 \t 0.0\n",
      "(step, action,reward): 60 \t 0 \t 0.0\n",
      "(step, action,reward): 61 \t 1 \t 0.0\n",
      "(step, action,reward): 62 \t 0 \t 0.0\n",
      "(step, action,reward): 63 \t 1 \t 0.0\n",
      "(step, action,reward): 64 \t 0 \t 0.0\n",
      "(step, action,reward): 65 \t 1 \t 0.0\n",
      "(step, action,reward): 66 \t 0 \t 0.0\n",
      "(step, action,reward): 67 \t 1 \t 0.0\n",
      "(step, action,reward): 68 \t 0 \t 0.0\n",
      "(step, action,reward): 69 \t 1 \t 0.0\n",
      "(step, action,reward): 70 \t 0 \t 0.0\n",
      "(step, action,reward): 71 \t 1 \t 0.0\n",
      "(step, action,reward): 72 \t 0 \t 0.0\n",
      "(step, action,reward): 73 \t 1 \t 0.0\n",
      "(step, action,reward): 74 \t 0 \t 0.0\n",
      "(step, action,reward): 75 \t 1 \t 0.0\n",
      "(step, action,reward): 76 \t 0 \t 0.0\n",
      "(step, action,reward): 77 \t 1 \t 0.0\n",
      "(step, action,reward): 78 \t 0 \t 0.0\n",
      "(step, action,reward): 79 \t 1 \t 0.0\n",
      "(step, action,reward): 80 \t 0 \t 0.0\n",
      "(step, action,reward): 81 \t 1 \t 0.0\n",
      "(step, action,reward): 82 \t 0 \t 0.0\n",
      "(step, action,reward): 83 \t 1 \t 0.0\n",
      "(step, action,reward): 84 \t 0 \t 0.0\n",
      "(step, action,reward): 85 \t 1 \t 0.0\n",
      "(step, action,reward): 86 \t 0 \t 0.0\n",
      "(step, action,reward): 87 \t 1 \t 0.0\n",
      "(step, action,reward): 88 \t 0 \t 0.0\n",
      "(step, action,reward): 89 \t 1 \t 0.0\n",
      "(step, action,reward): 90 \t 0 \t 0.0\n",
      "(step, action,reward): 91 \t 1 \t 0.0\n",
      "(step, action,reward): 92 \t 0 \t 0.0\n",
      "(step, action,reward): 93 \t 1 \t 0.0\n",
      "(step, action,reward): 94 \t 0 \t 0.0\n",
      "(step, action,reward): 95 \t 1 \t 0.0\n",
      "(step, action,reward): 96 \t 0 \t 0.0\n",
      "(step, action,reward): 97 \t 1 \t 0.0\n",
      "(step, action,reward): 98 \t 0 \t 0.0\n",
      "(step, action,reward): 99 \t 1 \t 0.0\n",
      "(step, action,reward): 100 \t 0 \t 0.0\n",
      "(step, action,reward): 101 \t 1 \t 0.0\n",
      "(step, action,reward): 102 \t 0 \t 0.0\n",
      "(step, action,reward): 103 \t 1 \t 0.0\n",
      "(step, action,reward): 104 \t 0 \t 0.0\n",
      "(step, action,reward): 105 \t 1 \t 0.0\n",
      "(step, action,reward): 106 \t 0 \t 0.0\n",
      "(step, action,reward): 107 \t 1 \t 0.0\n",
      "(step, action,reward): 108 \t 0 \t 0.0\n",
      "(step, action,reward): 109 \t 1 \t 0.0\n",
      "(step, action,reward): 110 \t 0 \t 0.0\n",
      "(step, action,reward): 111 \t 1 \t 0.0\n",
      "(step, action,reward): 112 \t 0 \t 0.0\n",
      "(step, action,reward): 113 \t 1 \t 0.0\n",
      "(step, action,reward): 114 \t 0 \t 0.0\n",
      "(step, action,reward): 115 \t 1 \t 0.0\n",
      "(step, action,reward): 116 \t 0 \t 0.0\n",
      "(step, action,reward): 117 \t 1 \t 0.0\n",
      "(step, action,reward): 118 \t 0 \t 0.0\n",
      "(step, action,reward): 119 \t 1 \t 0.0\n",
      "(step, action,reward): 120 \t 0 \t 0.0\n",
      "(step, action,reward): 121 \t 1 \t 0.0\n",
      "(step, action,reward): 122 \t 0 \t 0.0\n",
      "(step, action,reward): 123 \t 1 \t 0.0\n",
      "(step, action,reward): 124 \t 0 \t 0.0\n",
      "(step, action,reward): 125 \t 1 \t 0.0\n",
      "(step, action,reward): 126 \t 0 \t 0.0\n",
      "(step, action,reward): 127 \t 1 \t 0.0\n",
      "(step, action,reward): 128 \t 0 \t 0.0\n",
      "(step, action,reward): 129 \t 1 \t 0.0\n",
      "(step, action,reward): 130 \t 0 \t 0.0\n",
      "(step, action,reward): 131 \t 1 \t 0.0\n",
      "(step, action,reward): 132 \t 0 \t 0.0\n",
      "(step, action,reward): 133 \t 1 \t 0.0\n",
      "(step, action,reward): 134 \t 0 \t 0.0\n",
      "(step, action,reward): 135 \t 1 \t 0.0\n",
      "(step, action,reward): 136 \t 0 \t 0.0\n",
      "(step, action,reward): 137 \t 1 \t 0.0\n",
      "(step, action,reward): 138 \t 0 \t 0.0\n",
      "(step, action,reward): 139 \t 1 \t 0.0\n",
      "(step, action,reward): 140 \t 0 \t 0.0\n",
      "(step, action,reward): 141 \t 1 \t 0.0\n",
      "(step, action,reward): 142 \t 0 \t 0.0\n",
      "(step, action,reward): 143 \t 1 \t 0.0\n",
      "(step, action,reward): 144 \t 0 \t 0.0\n",
      "(step, action,reward): 145 \t 1 \t 0.0\n",
      "(step, action,reward): 146 \t 0 \t 0.0\n",
      "(step, action,reward): 147 \t 1 \t 0.0\n",
      "(step, action,reward): 148 \t 0 \t 0.0\n",
      "(step, action,reward): 149 \t 1 \t 0.0\n",
      "(step, action,reward): 150 \t 0 \t 0.0\n",
      "(step, action,reward): 151 \t 1 \t 0.0\n",
      "(step, action,reward): 152 \t 0 \t 0.0\n",
      "(step, action,reward): 153 \t 1 \t 0.0\n",
      "(step, action,reward): 154 \t 0 \t 0.0\n",
      "(step, action,reward): 155 \t 1 \t 0.0\n",
      "(step, action,reward): 156 \t 0 \t 0.0\n",
      "(step, action,reward): 157 \t 1 \t 0.0\n",
      "(step, action,reward): 158 \t 0 \t 0.0\n",
      "(step, action,reward): 159 \t 1 \t 0.0\n",
      "(step, action,reward): 160 \t 0 \t 0.0\n",
      "(step, action,reward): 161 \t 1 \t 0.0\n",
      "(step, action,reward): 162 \t 0 \t 0.0\n",
      "(step, action,reward): 163 \t 1 \t 0.0\n",
      "(step, action,reward): 164 \t 0 \t 0.0\n",
      "(step, action,reward): 165 \t 1 \t 0.0\n",
      "(step, action,reward): 166 \t 0 \t 0.0\n",
      "(step, action,reward): 167 \t 1 \t 0.0\n",
      "(step, action,reward): 168 \t 0 \t 0.0\n",
      "(step, action,reward): 169 \t 1 \t 0.0\n",
      "(step, action,reward): 170 \t 0 \t 0.0\n",
      "(step, action,reward): 171 \t 1 \t 0.0\n",
      "(step, action,reward): 172 \t 0 \t 0.0\n",
      "(step, action,reward): 173 \t 1 \t 0.0\n",
      "(step, action,reward): 174 \t 0 \t 0.0\n",
      "(step, action,reward): 175 \t 1 \t 0.0\n",
      "(step, action,reward): 176 \t 0 \t 0.0\n",
      "(step, action,reward): 177 \t 1 \t 0.0\n",
      "(step, action,reward): 178 \t 0 \t 0.0\n",
      "(step, action,reward): 179 \t 1 \t 0.0\n",
      "(step, action,reward): 180 \t 0 \t 0.0\n",
      "(step, action,reward): 181 \t 1 \t 0.0\n",
      "(step, action,reward): 182 \t 0 \t 0.0\n",
      "(step, action,reward): 183 \t 1 \t 0.0\n",
      "(step, action,reward): 184 \t 0 \t 0.0\n",
      "(step, action,reward): 185 \t 1 \t 0.0\n",
      "(step, action,reward): 186 \t 0 \t 0.0\n",
      "(step, action,reward): 187 \t 1 \t 0.0\n",
      "(step, action,reward): 188 \t 0 \t 0.0\n",
      "(step, action,reward): 189 \t 1 \t 0.0\n",
      "(step, action,reward): 190 \t 0 \t 0.0\n",
      "(step, action,reward): 191 \t 1 \t 0.0\n",
      "(step, action,reward): 192 \t 0 \t 0.0\n",
      "(step, action,reward): 193 \t 1 \t 0.0\n",
      "(step, action,reward): 194 \t 0 \t 0.0\n",
      "(step, action,reward): 195 \t 1 \t 0.0\n",
      "(step, action,reward): 196 \t 0 \t 0.0\n",
      "(step, action,reward): 197 \t 1 \t 0.0\n",
      "(step, action,reward): 198 \t 0 \t 0.0\n",
      "(step, action,reward): 199 \t 1 \t 0.0\n",
      "(step, action,reward): 200 \t 0 \t 0.0\n",
      "(step, action,reward): 201 \t 1 \t 0.0\n",
      "(step, action,reward): 202 \t 0 \t 0.0\n",
      "(step, action,reward): 203 \t 1 \t 0.0\n",
      "(step, action,reward): 204 \t 0 \t 0.0\n",
      "(step, action,reward): 205 \t 1 \t 0.0\n",
      "(step, action,reward): 206 \t 0 \t 0.0\n",
      "(step, action,reward): 207 \t 1 \t 0.0\n",
      "(step, action,reward): 208 \t 0 \t 0.0\n",
      "(step, action,reward): 209 \t 1 \t 0.0\n",
      "(step, action,reward): 210 \t 0 \t 0.0\n",
      "(step, action,reward): 211 \t 1 \t 0.0\n",
      "(step, action,reward): 212 \t 0 \t 0.0\n",
      "(step, action,reward): 213 \t 1 \t 0.0\n",
      "(step, action,reward): 214 \t 0 \t 0.0\n",
      "(step, action,reward): 215 \t 1 \t 0.0\n",
      "(step, action,reward): 216 \t 0 \t 0.0\n",
      "(step, action,reward): 217 \t 1 \t 0.0\n",
      "(step, action,reward): 218 \t 0 \t 0.0\n",
      "(step, action,reward): 219 \t 1 \t 0.0\n",
      "(step, action,reward): 220 \t 0 \t 0.0\n",
      "(step, action,reward): 221 \t 1 \t 0.0\n",
      "(step, action,reward): 222 \t 0 \t 0.0\n",
      "(step, action,reward): 223 \t 1 \t 0.0\n",
      "(step, action,reward): 224 \t 0 \t 0.0\n",
      "(step, action,reward): 225 \t 1 \t 0.0\n",
      "(step, action,reward): 226 \t 0 \t 0.0\n",
      "(step, action,reward): 227 \t 1 \t 0.0\n",
      "(step, action,reward): 228 \t 0 \t 0.0\n",
      "(step, action,reward): 229 \t 1 \t 0.0\n",
      "(step, action,reward): 230 \t 0 \t 0.0\n",
      "(step, action,reward): 231 \t 1 \t 0.0\n",
      "(step, action,reward): 232 \t 0 \t 0.0\n",
      "(step, action,reward): 233 \t 1 \t 0.0\n",
      "(step, action,reward): 234 \t 0 \t 0.0\n",
      "(step, action,reward): 235 \t 1 \t 0.0\n",
      "(step, action,reward): 236 \t 0 \t 0.0\n",
      "(step, action,reward): 237 \t 1 \t 0.0\n",
      "(step, action,reward): 238 \t 0 \t 0.0\n",
      "(step, action,reward): 239 \t 1 \t 0.0\n",
      "(step, action,reward): 240 \t 0 \t 0.0\n",
      "(step, action,reward): 241 \t 1 \t 0.0\n",
      "(step, action,reward): 242 \t 0 \t 0.0\n",
      "(step, action,reward): 243 \t 1 \t 0.0\n",
      "(step, action,reward): 244 \t 0 \t 0.0\n",
      "(step, action,reward): 245 \t 1 \t 0.0\n",
      "(step, action,reward): 246 \t 0 \t 0.0\n",
      "(step, action,reward): 247 \t 1 \t 0.0\n",
      "(step, action,reward): 248 \t 0 \t 0.0\n",
      "(step, action,reward): 249 \t 1 \t 0.0\n",
      "(step, action,reward): 250 \t 0 \t 0.0\n",
      "(step, action,reward): 251 \t 1 \t 0.0\n",
      "(step, action,reward): 252 \t 0 \t 0.0\n",
      "(step, action,reward): 253 \t 1 \t 0.0\n",
      "(step, action,reward): 254 \t 0 \t 0.0\n",
      "(step, action,reward): 255 \t 1 \t 0.0\n",
      "(step, action,reward): 256 \t 0 \t 0.0\n",
      "(step, action,reward): 257 \t 1 \t 0.0\n",
      "(step, action,reward): 258 \t 0 \t 0.0\n",
      "(step, action,reward): 259 \t 1 \t 0.0\n",
      "(step, action,reward): 260 \t 0 \t 0.0\n",
      "(step, action,reward): 261 \t 1 \t 0.0\n",
      "(step, action,reward): 262 \t 0 \t 0.0\n",
      "(step, action,reward): 263 \t 1 \t 0.0\n",
      "(step, action,reward): 264 \t 0 \t 0.0\n",
      "(step, action,reward): 265 \t 1 \t 0.0\n",
      "(step, action,reward): 266 \t 0 \t 0.0\n",
      "(step, action,reward): 267 \t 1 \t 0.0\n",
      "(step, action,reward): 268 \t 0 \t 0.0\n",
      "(step, action,reward): 269 \t 1 \t 0.0\n",
      "(step, action,reward): 270 \t 0 \t 0.0\n",
      "(step, action,reward): 271 \t 1 \t 0.0\n",
      "(step, action,reward): 272 \t 0 \t 0.0\n",
      "(step, action,reward): 273 \t 1 \t 0.0\n",
      "(step, action,reward): 274 \t 0 \t 0.0\n",
      "(step, action,reward): 275 \t 1 \t 0.0\n",
      "(step, action,reward): 276 \t 0 \t 0.0\n",
      "(step, action,reward): 277 \t 1 \t 0.0\n",
      "(step, action,reward): 278 \t 0 \t 0.0\n",
      "(step, action,reward): 279 \t 1 \t 0.0\n",
      "(step, action,reward): 280 \t 0 \t 0.0\n",
      "(step, action,reward): 281 \t 1 \t 0.0\n",
      "(step, action,reward): 282 \t 0 \t 0.0\n",
      "(step, action,reward): 283 \t 1 \t 0.0\n",
      "(step, action,reward): 284 \t 0 \t 0.0\n",
      "(step, action,reward): 285 \t 1 \t 0.0\n",
      "(step, action,reward): 286 \t 0 \t 0.0\n",
      "(step, action,reward): 287 \t 1 \t 0.0\n",
      "(step, action,reward): 288 \t 0 \t 0.0\n",
      "(step, action,reward): 289 \t 1 \t 0.0\n",
      "(step, action,reward): 290 \t 0 \t 0.0\n",
      "(step, action,reward): 291 \t 1 \t 0.0\n",
      "(step, action,reward): 292 \t 0 \t 0.0\n",
      "(step, action,reward): 293 \t 1 \t 0.0\n",
      "(step, action,reward): 294 \t 0 \t 0.0\n",
      "(step, action,reward): 295 \t 1 \t 0.0\n",
      "(step, action,reward): 296 \t 0 \t 0.0\n",
      "(step, action,reward): 297 \t 1 \t 0.0\n",
      "(step, action,reward): 298 \t 0 \t 0.0\n",
      "(step, action,reward): 299 \t 1 \t 0.0\n",
      "(step, action,reward): 300 \t 0 \t 0.0\n",
      "Score: 0.0\n"
     ]
    }
   ],
   "source": [
    "\n",
    "agent = Agent(state_size=state_size, action_size=action_size, seed=0)\n",
    "\n",
    "\n",
    "env_info = env.reset(train_mode=True)[brain_name] # reset the environment; looks like if train_mode=True, I don't see the video running and each episode ends much faster.\n",
    "state = env_info.vector_observations[0]            # get the current state\n",
    "score = 0                                          # initialize the score\n",
    "step = 0\n",
    "while True:\n",
    "    #action = np.random.randint(action_size)        # select a random action\n",
    "    action = agent.act(state)                      # Use the agent to get an action.\n",
    "    env_info = env.step(action)[brain_name]        # send the action to the environment\n",
    "    next_state = env_info.vector_observations[0]   # get the next state\n",
    "    reward = env_info.rewards[0]                   # get the reward\n",
    "    done = env_info.local_done[0]                  # see if episode has finished\n",
    "    score += reward                                # update the score\n",
    "    step += 1\n",
    "    state = next_state                             # roll over the state to next time step\n",
    "    print('\\r(step, action,reward):', step, '\\t', action, '\\t', reward)\n",
    "    if done:                                       # exit loop if episode finished\n",
    "        break\n",
    "    \n",
    "print(\"Score: {}\".format(score))"
   ]
  },
  {
   "cell_type": "code",
   "execution_count": 8,
   "metadata": {},
   "outputs": [],
   "source": [
    "#env.close()"
   ]
  },
  {
   "cell_type": "code",
   "execution_count": 9,
   "metadata": {},
   "outputs": [],
   "source": [
    "\n",
    "#assert False"
   ]
  },
  {
   "cell_type": "markdown",
   "metadata": {},
   "source": [
    "## 4. Train an agent\n",
    "\n",
    "In this section, we will train a DQN agent over many episodes."
   ]
  },
  {
   "cell_type": "code",
   "execution_count": 10,
   "metadata": {},
   "outputs": [],
   "source": [
    "def dqn(agent, n_episodes=2000, eps_start=1.0, eps_end=0.01, eps_decay=0.995):\n",
    "    \"\"\"Trains an agent over multiple episodes using the Deep Q-Learning, and returns a list of final scores for the episodes ran.\n",
    "    \n",
    "    Parameters\n",
    "    ----------\n",
    "    agent\n",
    "        A DQN agent to train\n",
    "    n_episodes: int\n",
    "        Maximum number of training episodes\n",
    "    eps_start: float\n",
    "        Starting value of epsilon, for epsilon-greedy action selection\n",
    "    eps_end: float\n",
    "        Minimum value of epsilon\n",
    "    eps_decay :float\n",
    "        Multiplicative factor (per episode) for decreasing epsilon\n",
    "    \n",
    "    Returns\n",
    "    -------\n",
    "    scores: list\n",
    "        A list of final scores for the episodes ran.\n",
    "        \n",
    "    Notes\n",
    "    -----\n",
    "    The `dqn` function was taken from the Udacity nanodegree Deep Reinforcement Learning course, and modified.\n",
    "    \"\"\"\n",
    "    \n",
    "    scores = []                        # list containing scores from each episode\n",
    "    scores_window = deque(maxlen=100)  # last 100 scores\n",
    "    eps = eps_start                    # initialize epsilon\n",
    "    for i_episode in range(1, n_episodes+1):\n",
    "        env_info = env.reset(train_mode=True)[brain_name] # reset the environment\n",
    "        state = env_info.vector_observations[0]\n",
    "\n",
    "        score = 0\n",
    "        while True:\n",
    "            action = agent.act(state, eps)\n",
    "            \n",
    "            env_info = env.step(action)[brain_name]        # send the action to the environment\n",
    "            next_state = env_info.vector_observations[0]   # get the next state\n",
    "            reward = env_info.rewards[0]                   # get the reward\n",
    "            done = env_info.local_done[0]                  # see if episode has finished\n",
    "          \n",
    "            agent.step(state, action, reward, next_state, done)\n",
    "            state = next_state\n",
    "            score += reward\n",
    "            if done:\n",
    "                break \n",
    "        scores_window.append(score)       # save most recent score\n",
    "        scores.append(score)              # save most recent score\n",
    "        eps = max(eps_end, eps_decay*eps) # decrease epsilon\n",
    "        print('\\rEpisode {}\\tAverage Score: {:.2f}'.format(i_episode, np.mean(scores_window)), end=\"\")\n",
    "        if i_episode % 100 == 0:\n",
    "            print('\\rEpisode {}\\tAverage Score: {:.2f}'.format(i_episode, np.mean(scores_window)))\n",
    "            torch.save(agent.qnetwork_local.state_dict(), 'checkpoint.pth')\n",
    "            \n",
    "    return scores\n",
    "\n",
    "def dqn_test(agent, n_episodes=2000, eps=0.1):\n",
    "    \"\"\"Runs the trained agent in the environment for specified episodes and returns their scores.\n",
    "    \n",
    "    Parameters\n",
    "    ----------\n",
    "    agent\n",
    "        Trained agent.\n",
    "    n_episodes: int\n",
    "        Number of episodes to run the agent in the environment.\n",
    "    eps: float\n",
    "        Epsilon, for epsilon-greedy action selection\n",
    "        \n",
    "    Returns\n",
    "    -------\n",
    "    scores: list\n",
    "        A list of final scores for the episodes ran.\n",
    "        \n",
    "    \"\"\"\n",
    "    \n",
    "    scores = []                        # list containing scores from each episode\n",
    "    scores_window = deque(maxlen=100)  # last 100 scores\n",
    "    for i_episode in range(1, n_episodes+1):\n",
    "        env_info = env.reset(train_mode=True)[brain_name] # reset the environment\n",
    "        state = env_info.vector_observations[0]\n",
    "\n",
    "        score = 0\n",
    "        while True:\n",
    "            action = agent.act(state, eps)\n",
    "            \n",
    "            env_info = env.step(action)[brain_name]        # send the action to the environment\n",
    "            next_state = env_info.vector_observations[0]   # get the next state\n",
    "            reward = env_info.rewards[0]                   # get the reward\n",
    "            done = env_info.local_done[0]                  # see if episode has finished\n",
    "         \n",
    "            state = next_state\n",
    "            score += reward\n",
    "            if done:\n",
    "                break \n",
    "        if i_episode % 100 == 0:\n",
    "            print('\\rEpisode {}\\tAverage Score: {:.2f}'.format(i_episode, np.mean(scores_window)))\n",
    "        \n",
    "        scores_window.append(score)       # save most recent score\n",
    "        scores.append(score)              # save most recent score\n",
    "        \n",
    "    return scores\n",
    "\n"
   ]
  },
  {
   "cell_type": "code",
   "execution_count": 11,
   "metadata": {},
   "outputs": [
    {
     "name": "stdout",
     "output_type": "stream",
     "text": [
      "Episode 100\tAverage Score: 0.87\n",
      "Episode 200\tAverage Score: 4.56\n",
      "Episode 300\tAverage Score: 8.15\n",
      "Episode 400\tAverage Score: 10.58\n",
      "Episode 500\tAverage Score: 13.30\n",
      "Episode 600\tAverage Score: 13.85\n",
      "Episode 700\tAverage Score: 14.76\n",
      "Episode 800\tAverage Score: 15.70\n",
      "Episode 900\tAverage Score: 15.89\n",
      "Episode 1000\tAverage Score: 15.75\n"
     ]
    }
   ],
   "source": [
    "# Train an agent:\n",
    "agent = Agent(state_size=state_size, action_size=action_size, seed=0)\n",
    "\n",
    "scores = dqn(agent, n_episodes=1000)\n"
   ]
  },
  {
   "cell_type": "code",
   "execution_count": 12,
   "metadata": {},
   "outputs": [
    {
     "data": {
      "image/png": "[encoded data removed]",
      "text/plain": [
       "<Figure size 432x288 with 1 Axes>"
      ]
     },
     "metadata": {
      "needs_background": "light"
     },
     "output_type": "display_data"
    }
   ],
   "source": [
    "# plot the scores\n",
    "fig = plt.figure()\n",
    "ax = fig.add_subplot(111)\n",
    "plt.plot(np.arange(len(scores)), scores)\n",
    "plt.ylabel('Score')\n",
    "plt.xlabel('Episode #')\n",
    "plt.show()"
   ]
  },
  {
   "cell_type": "markdown",
   "metadata": {},
   "source": [
    "## 5. Confirm that the saved weights contain the trained agent that performs better\n",
    "\n",
    "In this section, we will load learned neural network weights from a file `checkpoint.pth` into an agent, and re-run agent without training, and evaluate its performance.\n",
    "\n",
    "Note that an average score of 13+ for 100 consecutive episodes is considered \"solving\" the environment."
   ]
  },
  {
   "cell_type": "code",
   "execution_count": 13,
   "metadata": {},
   "outputs": [
    {
     "data": {
      "text/plain": [
       "QNetwork(\n",
       "  (fc1): Linear(in_features=37, out_features=64, bias=True)\n",
       "  (fc2): Linear(in_features=64, out_features=64, bias=True)\n",
       "  (fc3): Linear(in_features=64, out_features=4, bias=True)\n",
       ")"
      ]
     },
     "execution_count": 13,
     "metadata": {},
     "output_type": "execute_result"
    }
   ],
   "source": [
    "# Load the model weights from the previous Training step into a new agent:\n",
    "\n",
    "agent2 = Agent(state_size=state_size, action_size=action_size, seed=0)\n",
    "agent2.qnetwork_local.load_state_dict(torch.load('checkpoint.pth', map_location=torch.device('cpu')))\n",
    "agent2.qnetwork_local.eval()"
   ]
  },
  {
   "cell_type": "code",
   "execution_count": 14,
   "metadata": {},
   "outputs": [
    {
     "name": "stdout",
     "output_type": "stream",
     "text": [
      "Episode 100\tAverage Score: 13.65\n",
      "Episode 200\tAverage Score: 14.18\n",
      "Episode 300\tAverage Score: 14.04\n",
      "Episode 400\tAverage Score: 14.72\n",
      "Episode 500\tAverage Score: 13.99\n"
     ]
    }
   ],
   "source": [
    "# Run the new agent for n_episodes:\n",
    "scores_test = dqn_test(agent2, n_episodes=500, eps=0.1)\n"
   ]
  },
  {
   "cell_type": "code",
   "execution_count": 15,
   "metadata": {},
   "outputs": [
    {
     "data": {
      "image/png": "[encoded data removed]",
      "text/plain": [
       "<Figure size 432x288 with 1 Axes>"
      ]
     },
     "metadata": {
      "needs_background": "light"
     },
     "output_type": "display_data"
    }
   ],
   "source": [
    "# plot the scores\n",
    "fig = plt.figure()\n",
    "ax = fig.add_subplot(111)\n",
    "plt.plot(np.arange(len(scores_test)), scores_test)\n",
    "plt.ylabel('Score')\n",
    "plt.xlabel('Episode #')\n",
    "plt.show()"
   ]
  },
  {
   "cell_type": "code",
   "execution_count": 18,
   "metadata": {},
   "outputs": [
    {
     "data": {
      "text/plain": [
       "<matplotlib.lines.Line2D at 0x7f054c707ef0>"
      ]
     },
     "execution_count": 18,
     "metadata": {},
     "output_type": "execute_result"
    },
    {
     "data": {
      "image/png": "[encoded data removed]",
      "text/plain": [
       "<Figure size 432x288 with 1 Axes>"
      ]
     },
     "metadata": {
      "needs_background": "light"
     },
     "output_type": "display_data"
    }
   ],
   "source": [
    "# Distribution of scores\n",
    "score_mean = np.mean(scores_test)\n",
    "\n",
    "plt.hist(scores_test, bins=10)\n",
    "plt.ylabel('Count')\n",
    "plt.title('Distribution of scores using the trained agent')\n",
    "plt.axvline(x=score_mean, color='red')"
   ]
  },
  {
   "cell_type": "code",
   "execution_count": 17,
   "metadata": {},
   "outputs": [
    {
     "name": "stdout",
     "output_type": "stream",
     "text": [
      "Mean Score: 14.108\n"
     ]
    }
   ],
   "source": [
    "print('Mean Score:', score_mean)"
   ]
  },
  {
   "cell_type": "code",
   "execution_count": 19,
   "metadata": {},
   "outputs": [],
   "source": [
    "# As you can see above, saved weights are indeed for an agent that can solve the Banana environment."
   ]
  },
  {
   "cell_type": "code",
   "execution_count": null,
   "metadata": {},
   "outputs": [],
   "source": []
  }
 ],
 "metadata": {
  "kernelspec": {
   "display_name": "Python 3",
   "language": "python",
   "name": "python3"
  },
  "language_info": {
   "codemirror_mode": {
    "name": "ipython",
    "version": 3
   },
   "file_extension": ".py",
   "mimetype": "text/x-python",
   "name": "python",
   "nbconvert_exporter": "python",
   "pygments_lexer": "ipython3",
   "version": "3.6.11"
  }
 },
 "nbformat": 4,
 "nbformat_minor": 2
}
